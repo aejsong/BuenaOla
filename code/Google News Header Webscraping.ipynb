{
 "cells": [
  {
   "cell_type": "markdown",
   "metadata": {},
   "source": [
    "# Webscraping"
   ]
  },
  {
   "cell_type": "markdown",
   "metadata": {},
   "source": [
    "# Contents\n",
    "- [Imports](#Imports)\n",
    "- [Google News Header Webscrape using BeautifulSoup](#Google-News-Header-Webscrape)\n",
    "- [Glassdoor Employee Reviews Webscrape](#Glassdoor-Employee-Reviews-Webscrape)"
   ]
  },
  {
   "cell_type": "markdown",
   "metadata": {},
   "source": [
    "## Imports"
   ]
  },
  {
   "cell_type": "code",
   "execution_count": 1,
   "metadata": {},
   "outputs": [],
   "source": [
    "import pandas as pd\n",
    "import requests\n",
    "import regex as re\n",
    "\n",
    "from bs4 import BeautifulSoup"
   ]
  },
  {
   "cell_type": "markdown",
   "metadata": {},
   "source": [
    "## Google News Header Webscrape"
   ]
  },
  {
   "cell_type": "code",
   "execution_count": 2,
   "metadata": {},
   "outputs": [
    {
     "data": {
      "text/html": [
       "<div>\n",
       "<style scoped>\n",
       "    .dataframe tbody tr th:only-of-type {\n",
       "        vertical-align: middle;\n",
       "    }\n",
       "\n",
       "    .dataframe tbody tr th {\n",
       "        vertical-align: top;\n",
       "    }\n",
       "\n",
       "    .dataframe thead th {\n",
       "        text-align: right;\n",
       "    }\n",
       "</style>\n",
       "<table border=\"1\" class=\"dataframe\">\n",
       "  <thead>\n",
       "    <tr style=\"text-align: right;\">\n",
       "      <th></th>\n",
       "      <th>name</th>\n",
       "      <th>url</th>\n",
       "    </tr>\n",
       "  </thead>\n",
       "  <tbody>\n",
       "    <tr>\n",
       "      <th>0</th>\n",
       "      <td>minerals technologies, inc.</td>\n",
       "      <td>https://news.google.com/topics/CAAqJAgKIh5DQkF...</td>\n",
       "    </tr>\n",
       "    <tr>\n",
       "      <th>1</th>\n",
       "      <td>kraton corp</td>\n",
       "      <td>https://news.google.com/topics/CAAqIggKIhxDQkF...</td>\n",
       "    </tr>\n",
       "    <tr>\n",
       "      <th>2</th>\n",
       "      <td>ingevity corp</td>\n",
       "      <td>https://news.google.com/topics/CAAqKAgKIiJDQkF...</td>\n",
       "    </tr>\n",
       "    <tr>\n",
       "      <th>3</th>\n",
       "      <td>virtusa corp</td>\n",
       "      <td>https://news.google.com/topics/CAAqJAgKIh5DQkF...</td>\n",
       "    </tr>\n",
       "    <tr>\n",
       "      <th>4</th>\n",
       "      <td>kb home</td>\n",
       "      <td>https://news.google.com/topics/CAAqIggKIhxDQkF...</td>\n",
       "    </tr>\n",
       "  </tbody>\n",
       "</table>\n",
       "</div>"
      ],
      "text/plain": [
       "                          name  \\\n",
       "0  minerals technologies, inc.   \n",
       "1                  kraton corp   \n",
       "2                ingevity corp   \n",
       "3                 virtusa corp   \n",
       "4                      kb home   \n",
       "\n",
       "                                                 url  \n",
       "0  https://news.google.com/topics/CAAqJAgKIh5DQkF...  \n",
       "1  https://news.google.com/topics/CAAqIggKIhxDQkF...  \n",
       "2  https://news.google.com/topics/CAAqKAgKIiJDQkF...  \n",
       "3  https://news.google.com/topics/CAAqJAgKIh5DQkF...  \n",
       "4  https://news.google.com/topics/CAAqIggKIhxDQkF...  "
      ]
     },
     "execution_count": 2,
     "metadata": {},
     "output_type": "execute_result"
    }
   ],
   "source": [
    "# Bringing in company names + urls\n",
    "url_df = pd.read_csv('../data/scrape_list.csv')\n",
    "url_df.head()"
   ]
  },
  {
   "cell_type": "code",
   "execution_count": 3,
   "metadata": {},
   "outputs": [],
   "source": [
    "h3_text = []\n",
    "company_name = []\n",
    "for i in range(0,len(url_df)):\n",
    "    company_name.append(url_df['name'][i])\n",
    "    url = url_df['url'][i]\n",
    "    res = requests.get(url)\n",
    "    \n",
    "    if res.status_code == 200:\n",
    "        soup = BeautifulSoup(res.text, 'lxml')\n",
    "        h3 = soup.find_all('h3')\n",
    "    \n",
    "        h3_text.append([tag.text for tag in h3])\n",
    "    else:\n",
    "        print(url_df['name'] + ' encountered error ' + res_status_code)\n",
    "        \n",
    "text_dict = {\n",
    "    'name' : company_name,\n",
    "    'header_text' : h3_text\n",
    "}\n",
    "\n",
    "header_df = pd.DataFrame(text_dict)"
   ]
  },
  {
   "cell_type": "code",
   "execution_count": 4,
   "metadata": {},
   "outputs": [
    {
     "data": {
      "text/html": [
       "<div>\n",
       "<style scoped>\n",
       "    .dataframe tbody tr th:only-of-type {\n",
       "        vertical-align: middle;\n",
       "    }\n",
       "\n",
       "    .dataframe tbody tr th {\n",
       "        vertical-align: top;\n",
       "    }\n",
       "\n",
       "    .dataframe thead th {\n",
       "        text-align: right;\n",
       "    }\n",
       "</style>\n",
       "<table border=\"1\" class=\"dataframe\">\n",
       "  <thead>\n",
       "    <tr style=\"text-align: right;\">\n",
       "      <th></th>\n",
       "      <th>name</th>\n",
       "      <th>header_text</th>\n",
       "    </tr>\n",
       "  </thead>\n",
       "  <tbody>\n",
       "    <tr>\n",
       "      <th>0</th>\n",
       "      <td>minerals technologies, inc.</td>\n",
       "      <td>Ex-Dividend Reminder: Minerals Technologies, N...</td>\n",
       "    </tr>\n",
       "    <tr>\n",
       "      <th>1</th>\n",
       "      <td>kraton corp</td>\n",
       "      <td>Kraton: Well-Positioned To Meet A 5-Year Deman...</td>\n",
       "    </tr>\n",
       "    <tr>\n",
       "      <th>2</th>\n",
       "      <td>ingevity corp</td>\n",
       "      <td>Ingevity receives grant to help fund demonstra...</td>\n",
       "    </tr>\n",
       "    <tr>\n",
       "      <th>3</th>\n",
       "      <td>virtusa corp</td>\n",
       "      <td>Following $2B acquisition, Virtusa founder &amp; C...</td>\n",
       "    </tr>\n",
       "    <tr>\n",
       "      <th>4</th>\n",
       "      <td>kb home</td>\n",
       "      <td>Orlando KB Home exec shares biggest growth opp...</td>\n",
       "    </tr>\n",
       "  </tbody>\n",
       "</table>\n",
       "</div>"
      ],
      "text/plain": [
       "                          name  \\\n",
       "0  minerals technologies, inc.   \n",
       "1                  kraton corp   \n",
       "2                ingevity corp   \n",
       "3                 virtusa corp   \n",
       "4                      kb home   \n",
       "\n",
       "                                         header_text  \n",
       "0  Ex-Dividend Reminder: Minerals Technologies, N...  \n",
       "1  Kraton: Well-Positioned To Meet A 5-Year Deman...  \n",
       "2  Ingevity receives grant to help fund demonstra...  \n",
       "3  Following $2B acquisition, Virtusa founder & C...  \n",
       "4  Orlando KB Home exec shares biggest growth opp...  "
      ]
     },
     "execution_count": 4,
     "metadata": {},
     "output_type": "execute_result"
    }
   ],
   "source": [
    "header_df['header_text'] = header_df['header_text'].apply(lambda x: ' '.join(x))\n",
    "header_df.head()"
   ]
  },
  {
   "cell_type": "code",
   "execution_count": 5,
   "metadata": {},
   "outputs": [
    {
     "data": {
      "text/plain": [
       "'/Users/aerikasong/Documents/BuenaOla/code'"
      ]
     },
     "execution_count": 5,
     "metadata": {},
     "output_type": "execute_result"
    }
   ],
   "source": [
    "pwd"
   ]
  },
  {
   "cell_type": "code",
   "execution_count": 6,
   "metadata": {},
   "outputs": [],
   "source": [
    "header_df.to_csv('../data/newsheader_data.csv')"
   ]
  },
  {
   "cell_type": "markdown",
   "metadata": {},
   "source": [
    "## Glassdoor Employee Reviews Webscrape\n",
    "Due to time constraints and unfamiliarity with the Glassdoor API, I was unable to collect the Employee Reviews data for every company. It is something I definitely would like to dive into, explore and include in my analysis if time was not an issue."
   ]
  }
 ],
 "metadata": {
  "kernelspec": {
   "display_name": "Python 3",
   "language": "python",
   "name": "python3"
  },
  "language_info": {
   "codemirror_mode": {
    "name": "ipython",
    "version": 3
   },
   "file_extension": ".py",
   "mimetype": "text/x-python",
   "name": "python",
   "nbconvert_exporter": "python",
   "pygments_lexer": "ipython3",
   "version": "3.6.4"
  }
 },
 "nbformat": 4,
 "nbformat_minor": 2
}
